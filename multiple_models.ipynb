{
 "cells": [
  {
   "cell_type": "code",
   "execution_count": null,
   "metadata": {
    "vscode": {
     "languageId": "plaintext"
    }
   },
   "outputs": [],
   "source": [
    "# get rid of unnecessary warnings\n",
    "import warnings\n",
    "warnings.filterwarnings('ignore')\n",
    "\n",
    "import pandas as pd\n",
    "import numpy as np\n",
    "from sklearn.linear_model import LinearRegression\n",
    "from sklearn.svm import SVR\n",
    "from sklearn.neighbors import KNeighborsRegressor\n",
    "from sklearn.tree import DecisionTreeRegressor\n",
    "from sklearn.ensemble import RandomForestRegressor\n",
    "from sklearn.neural_network import MLPRegressor\n",
    "from sklearn.model_selection import cross_val_score\n",
    "\n",
    "train_data = pd.read_csv('geckoq_data/train.csv')\n",
    "test_data = pd.read_csv('geckoq_data/test.csv')\n",
    "\n",
    "X_train = train_data.drop(columns=['ID','log_pSat_Pa'])\n",
    "X_train = pd.get_dummies(X_train)\n",
    "y_train = train_data['log_pSat_Pa']\n",
    "X_test = test_data.drop(columns=['ID'])\n",
    "X_test = pd.get_dummies(X_test)\n",
    "\n",
    "for col in X_train.columns:\n",
    "    if col not in X_test.columns:\n",
    "        X_test[col] = 0\n",
    "X_test = X_test[X_train.columns]\n",
    "\n",
    "models = []\n",
    "\n",
    "models.append((\"LinearRegression\", LinearRegression()))\n",
    "models.append((\"SVR\", SVR()))\n",
    "models.append((\"KNeighborsRegressor\", KNeighborsRegressor()))\n",
    "models.append((\"DecisionTreeRegressor\", DecisionTreeRegressor()))\n",
    "models.append((\"RandomForestRegressor\", RandomForestRegressor()))\n",
    "rf2 = RandomForestRegressor(n_estimators=100, criterion='squared_error',\n",
    "                            max_depth=10, random_state=0, max_features=None)\n",
    "models.append((\"RandomForestRegressor2\", rf2))\n",
    "models.append((\"MLPRegressor\", MLPRegressor(solver='lbfgs', random_state=0)))\n",
    "\n",
    "results = []\n",
    "names = []\n",
    "for name, model in models:\n",
    "    result = cross_val_score(model, X_train, y_train, cv=3)\n",
    "    names.append(name)\n",
    "    results.append(result)\n",
    "\n",
    "for i in range(len(names)):\n",
    "    print(names[i], results[i].mean())\n",
    "\n",
    "# Fit the models and make predictions on X_test\n",
    "predictions = {}\n",
    "for name, model in models:\n",
    "    model.fit(X_train, y_train)\n",
    "    predictions[name] = model.predict(X_test)\n",
    "\n",
    "# Print predictions for each model\n",
    "for name in predictions:\n",
    "    print(f\"Predictions for {name}: {predictions[name]}\")"
   ]
  }
 ],
 "metadata": {
  "language_info": {
   "name": "python"
  }
 },
 "nbformat": 4,
 "nbformat_minor": 2
}
