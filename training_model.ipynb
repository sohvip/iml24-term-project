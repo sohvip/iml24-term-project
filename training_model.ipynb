{
 "cells": [
  {
   "cell_type": "markdown",
   "id": "01db99aa",
   "metadata": {},
   "source": [
    "# Linear Regression"
   ]
  },
  {
   "cell_type": "code",
   "execution_count": 1,
   "id": "87380648",
   "metadata": {},
   "outputs": [],
   "source": [
    "# get rid of unnecessary warnings\n",
    "import warnings\n",
    "warnings.filterwarnings('ignore')\n",
    "\n",
    "import pandas as pd\n",
    "import numpy as np\n",
    "from sklearn.linear_model import LinearRegression\n",
    "\n",
    "train_data = pd.read_csv('geckoq_data/train.csv')\n",
    "test_data = pd.read_csv('geckoq_data/test.csv')\n",
    "\n",
    "X_train = train_data.drop(columns=['ID','log_pSat_Pa'])\n",
    "X_train = pd.get_dummies(X_train)\n",
    "y_train = train_data['log_pSat_Pa']\n",
    "X_test = test_data.drop(columns=['ID'])\n",
    "X_test = pd.get_dummies(X_test)\n",
    "\n",
    "for col in X_train.columns:\n",
    "    if col not in X_test.columns:\n",
    "        X_test[col] = 0\n",
    "X_test = X_test[X_train.columns]\n",
    "\n",
    "model = LinearRegression()\n",
    "\n",
    "model.fit(X_train, y_train)\n",
    "\n",
    "predict = model.predict(X_test)\n",
    "\n",
    "results = pd.DataFrame({\n",
    "    'ID': test_data['ID'],\n",
    "    'TARGET': predict\n",
    "})\n",
    "\n",
    "results.to_csv('lr_submission.csv', index=False)\n"
   ]
  },
  {
   "cell_type": "markdown",
   "id": "33faa28a",
   "metadata": {},
   "source": [
    "# Random Forest"
   ]
  },
  {
   "cell_type": "code",
   "execution_count": 2,
   "id": "3f6ab269",
   "metadata": {},
   "outputs": [],
   "source": [
    "import pandas as pd\n",
    "import numpy as np\n",
    "from sklearn.ensemble import RandomForestRegressor\n",
    "from sklearn.metrics import mean_squared_error\n",
    "\n",
    "train_data = pd.read_csv('geckoq_data/train.csv')\n",
    "test_data = pd.read_csv('geckoq_data/test.csv')\n",
    "\n",
    "X_train = train_data.drop(columns=['ID','log_pSat_Pa'])\n",
    "X_train = pd.get_dummies(X_train)\n",
    "y_train = train_data['log_pSat_Pa']\n",
    "X_test = test_data.drop(columns=['ID'])\n",
    "X_test = pd.get_dummies(X_test)\n",
    "\n",
    "for col in X_train.columns:\n",
    "    if col not in X_test.columns:\n",
    "        X_test[col] = 0\n",
    "X_test = X_test[X_train.columns]\n",
    "\n",
    "model = RandomForestRegressor(n_estimators=100, random_state=15)\n",
    "\n",
    "model.fit(X_train, y_train)\n",
    "\n",
    "predict = model.predict(X_test)\n",
    "\n",
    "results = pd.DataFrame({\n",
    "    'ID': test_data['ID'],\n",
    "    'TARGET': predict\n",
    "})\n",
    "\n",
    "results.to_csv('rf_submission.csv', index=False)"
   ]
  }
 ],
 "metadata": {
  "kernelspec": {
   "display_name": "Python 3 (ipykernel)",
   "language": "python",
   "name": "python3"
  },
  "language_info": {
   "codemirror_mode": {
    "name": "ipython",
    "version": 3
   },
   "file_extension": ".py",
   "mimetype": "text/x-python",
   "name": "python",
   "nbconvert_exporter": "python",
   "pygments_lexer": "ipython3",
   "version": "3.10.12"
  }
 },
 "nbformat": 4,
 "nbformat_minor": 5
}
